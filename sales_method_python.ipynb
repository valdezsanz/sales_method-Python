{
 "cells": [
  {
   "cell_type": "markdown",
   "id": "a3d4387f-fa24-4a80-906b-4cca195b6736",
   "metadata": {},
   "source": [
    "# Sales Method analysis"
   ]
  },
  {
   "cell_type": "code",
   "execution_count": 1,
   "id": "6ac1a2c2-76bb-4911-969f-040ae29f7cce",
   "metadata": {
    "collapsed": false,
    "executionTime": 3131,
    "jupyter": {
     "outputs_hidden": false,
     "source_hidden": false
    },
    "lastSuccessfullyExecutedCode": "import pandas as pd \nimport matplotlib\nimport numpy as np\nimport matplotlib.pyplot as plt \nfrom matplotlib import style\nfrom scipy import stats\nimport seaborn as sns"
   },
   "outputs": [],
   "source": [
    "import pandas as pd \n",
    "import matplotlib\n",
    "import numpy as np\n",
    "import matplotlib.pyplot as plt \n",
    "from matplotlib import style\n",
    "from scipy import stats\n",
    "import seaborn as sns"
   ]
  },
  {
   "cell_type": "code",
   "execution_count": 2,
   "id": "fd373811-cde4-4719-a8d4-8d3ce2924440",
   "metadata": {
    "chartConfig": {
     "bar": {
      "hasRoundedCorners": true,
      "stacked": false
     },
     "type": "bar",
     "version": "v1"
    },
    "executionTime": 228,
    "lastSuccessfullyExecutedCode": "sales=pd.read_csv('product_sales.csv')\nsales.head(10)",
    "tags": [],
    "visualizeDataframe": false
   },
   "outputs": [
    {
     "data": {
      "text/html": [
       "<div>\n",
       "<style scoped>\n",
       "    .dataframe tbody tr th:only-of-type {\n",
       "        vertical-align: middle;\n",
       "    }\n",
       "\n",
       "    .dataframe tbody tr th {\n",
       "        vertical-align: top;\n",
       "    }\n",
       "\n",
       "    .dataframe thead th {\n",
       "        text-align: right;\n",
       "    }\n",
       "</style>\n",
       "<table border=\"1\" class=\"dataframe\">\n",
       "  <thead>\n",
       "    <tr style=\"text-align: right;\">\n",
       "      <th></th>\n",
       "      <th>week</th>\n",
       "      <th>sales_method</th>\n",
       "      <th>customer_id</th>\n",
       "      <th>nb_sold</th>\n",
       "      <th>revenue</th>\n",
       "      <th>years_as_customer</th>\n",
       "      <th>nb_site_visits</th>\n",
       "      <th>state</th>\n",
       "    </tr>\n",
       "  </thead>\n",
       "  <tbody>\n",
       "    <tr>\n",
       "      <th>0</th>\n",
       "      <td>2</td>\n",
       "      <td>Email</td>\n",
       "      <td>2e72d641-95ac-497b-bbf8-4861764a7097</td>\n",
       "      <td>10</td>\n",
       "      <td>NaN</td>\n",
       "      <td>0</td>\n",
       "      <td>24</td>\n",
       "      <td>Arizona</td>\n",
       "    </tr>\n",
       "    <tr>\n",
       "      <th>1</th>\n",
       "      <td>6</td>\n",
       "      <td>Email + Call</td>\n",
       "      <td>3998a98d-70f5-44f7-942e-789bb8ad2fe7</td>\n",
       "      <td>15</td>\n",
       "      <td>225.47</td>\n",
       "      <td>1</td>\n",
       "      <td>28</td>\n",
       "      <td>Kansas</td>\n",
       "    </tr>\n",
       "    <tr>\n",
       "      <th>2</th>\n",
       "      <td>5</td>\n",
       "      <td>Call</td>\n",
       "      <td>d1de9884-8059-4065-b10f-86eef57e4a44</td>\n",
       "      <td>11</td>\n",
       "      <td>52.55</td>\n",
       "      <td>6</td>\n",
       "      <td>26</td>\n",
       "      <td>Wisconsin</td>\n",
       "    </tr>\n",
       "    <tr>\n",
       "      <th>3</th>\n",
       "      <td>4</td>\n",
       "      <td>Email</td>\n",
       "      <td>78aa75a4-ffeb-4817-b1d0-2f030783c5d7</td>\n",
       "      <td>11</td>\n",
       "      <td>NaN</td>\n",
       "      <td>3</td>\n",
       "      <td>25</td>\n",
       "      <td>Indiana</td>\n",
       "    </tr>\n",
       "    <tr>\n",
       "      <th>4</th>\n",
       "      <td>3</td>\n",
       "      <td>Email</td>\n",
       "      <td>10e6d446-10a5-42e5-8210-1b5438f70922</td>\n",
       "      <td>9</td>\n",
       "      <td>90.49</td>\n",
       "      <td>0</td>\n",
       "      <td>28</td>\n",
       "      <td>Illinois</td>\n",
       "    </tr>\n",
       "    <tr>\n",
       "      <th>5</th>\n",
       "      <td>6</td>\n",
       "      <td>Call</td>\n",
       "      <td>6489e678-40f2-4fed-a48e-d0dff9c09205</td>\n",
       "      <td>13</td>\n",
       "      <td>65.01</td>\n",
       "      <td>10</td>\n",
       "      <td>24</td>\n",
       "      <td>Mississippi</td>\n",
       "    </tr>\n",
       "    <tr>\n",
       "      <th>6</th>\n",
       "      <td>4</td>\n",
       "      <td>Email</td>\n",
       "      <td>eb6bd5f1-f115-4e4b-80a6-5e67fcfbfb94</td>\n",
       "      <td>11</td>\n",
       "      <td>113.38</td>\n",
       "      <td>9</td>\n",
       "      <td>28</td>\n",
       "      <td>Georgia</td>\n",
       "    </tr>\n",
       "    <tr>\n",
       "      <th>7</th>\n",
       "      <td>1</td>\n",
       "      <td>Email</td>\n",
       "      <td>047df079-071b-4380-9012-2bfe9bce45d5</td>\n",
       "      <td>10</td>\n",
       "      <td>99.94</td>\n",
       "      <td>1</td>\n",
       "      <td>22</td>\n",
       "      <td>Oklahoma</td>\n",
       "    </tr>\n",
       "    <tr>\n",
       "      <th>8</th>\n",
       "      <td>5</td>\n",
       "      <td>Email</td>\n",
       "      <td>771586bd-7b64-40be-87df-afe884d2af9e</td>\n",
       "      <td>11</td>\n",
       "      <td>108.34</td>\n",
       "      <td>10</td>\n",
       "      <td>31</td>\n",
       "      <td>Massachusetts</td>\n",
       "    </tr>\n",
       "    <tr>\n",
       "      <th>9</th>\n",
       "      <td>5</td>\n",
       "      <td>Call</td>\n",
       "      <td>56491dae-bbe7-49f0-a651-b823a01103d8</td>\n",
       "      <td>11</td>\n",
       "      <td>53.82</td>\n",
       "      <td>7</td>\n",
       "      <td>23</td>\n",
       "      <td>Missouri</td>\n",
       "    </tr>\n",
       "  </tbody>\n",
       "</table>\n",
       "</div>"
      ],
      "text/plain": [
       "   week  sales_method                           customer_id  nb_sold  revenue  \\\n",
       "0     2         Email  2e72d641-95ac-497b-bbf8-4861764a7097       10      NaN   \n",
       "1     6  Email + Call  3998a98d-70f5-44f7-942e-789bb8ad2fe7       15   225.47   \n",
       "2     5          Call  d1de9884-8059-4065-b10f-86eef57e4a44       11    52.55   \n",
       "3     4         Email  78aa75a4-ffeb-4817-b1d0-2f030783c5d7       11      NaN   \n",
       "4     3         Email  10e6d446-10a5-42e5-8210-1b5438f70922        9    90.49   \n",
       "5     6          Call  6489e678-40f2-4fed-a48e-d0dff9c09205       13    65.01   \n",
       "6     4         Email  eb6bd5f1-f115-4e4b-80a6-5e67fcfbfb94       11   113.38   \n",
       "7     1         Email  047df079-071b-4380-9012-2bfe9bce45d5       10    99.94   \n",
       "8     5         Email  771586bd-7b64-40be-87df-afe884d2af9e       11   108.34   \n",
       "9     5          Call  56491dae-bbe7-49f0-a651-b823a01103d8       11    53.82   \n",
       "\n",
       "   years_as_customer  nb_site_visits          state  \n",
       "0                  0              24        Arizona  \n",
       "1                  1              28         Kansas  \n",
       "2                  6              26      Wisconsin  \n",
       "3                  3              25        Indiana  \n",
       "4                  0              28       Illinois  \n",
       "5                 10              24    Mississippi  \n",
       "6                  9              28        Georgia  \n",
       "7                  1              22       Oklahoma  \n",
       "8                 10              31  Massachusetts  \n",
       "9                  7              23       Missouri  "
      ]
     },
     "execution_count": 2,
     "metadata": {},
     "output_type": "execute_result"
    }
   ],
   "source": [
    "sales=pd.read_csv('product_sales.csv')\n",
    "sales.head(10)"
   ]
  },
  {
   "cell_type": "code",
   "execution_count": 3,
   "id": "73a2f31a-f601-40ec-8b13-372ea01e4a94",
   "metadata": {
    "executionTime": 234,
    "lastSuccessfullyExecutedCode": "sales.shape",
    "tags": []
   },
   "outputs": [
    {
     "data": {
      "text/plain": [
       "(15000, 8)"
      ]
     },
     "execution_count": 3,
     "metadata": {},
     "output_type": "execute_result"
    }
   ],
   "source": [
    "sales.shape"
   ]
  },
  {
   "cell_type": "code",
   "execution_count": 4,
   "id": "5fcd4412-0901-4bd5-b436-9523c6500ac0",
   "metadata": {
    "executionTime": 234,
    "lastSuccessfullyExecutedCode": "sales.dtypes",
    "tags": []
   },
   "outputs": [
    {
     "data": {
      "text/plain": [
       "week                   int64\n",
       "sales_method          object\n",
       "customer_id           object\n",
       "nb_sold                int64\n",
       "revenue              float64\n",
       "years_as_customer      int64\n",
       "nb_site_visits         int64\n",
       "state                 object\n",
       "dtype: object"
      ]
     },
     "execution_count": 4,
     "metadata": {},
     "output_type": "execute_result"
    }
   ],
   "source": [
    "sales.dtypes"
   ]
  },
  {
   "cell_type": "code",
   "execution_count": 5,
   "id": "bb1f30ce-59d3-475f-a619-3a1193a0de60",
   "metadata": {
    "executionTime": 225,
    "lastSuccessfullyExecutedCode": "sales.groupby(by='week').agg({'week':'count'})\n",
    "tags": []
   },
   "outputs": [
    {
     "data": {
      "text/html": [
       "<div>\n",
       "<style scoped>\n",
       "    .dataframe tbody tr th:only-of-type {\n",
       "        vertical-align: middle;\n",
       "    }\n",
       "\n",
       "    .dataframe tbody tr th {\n",
       "        vertical-align: top;\n",
       "    }\n",
       "\n",
       "    .dataframe thead th {\n",
       "        text-align: right;\n",
       "    }\n",
       "</style>\n",
       "<table border=\"1\" class=\"dataframe\">\n",
       "  <thead>\n",
       "    <tr style=\"text-align: right;\">\n",
       "      <th></th>\n",
       "      <th>week</th>\n",
       "    </tr>\n",
       "    <tr>\n",
       "      <th>week</th>\n",
       "      <th></th>\n",
       "    </tr>\n",
       "  </thead>\n",
       "  <tbody>\n",
       "    <tr>\n",
       "      <th>1</th>\n",
       "      <td>3721</td>\n",
       "    </tr>\n",
       "    <tr>\n",
       "      <th>2</th>\n",
       "      <td>2491</td>\n",
       "    </tr>\n",
       "    <tr>\n",
       "      <th>3</th>\n",
       "      <td>2411</td>\n",
       "    </tr>\n",
       "    <tr>\n",
       "      <th>4</th>\n",
       "      <td>2575</td>\n",
       "    </tr>\n",
       "    <tr>\n",
       "      <th>5</th>\n",
       "      <td>2574</td>\n",
       "    </tr>\n",
       "    <tr>\n",
       "      <th>6</th>\n",
       "      <td>1228</td>\n",
       "    </tr>\n",
       "  </tbody>\n",
       "</table>\n",
       "</div>"
      ],
      "text/plain": [
       "      week\n",
       "week      \n",
       "1     3721\n",
       "2     2491\n",
       "3     2411\n",
       "4     2575\n",
       "5     2574\n",
       "6     1228"
      ]
     },
     "execution_count": 5,
     "metadata": {},
     "output_type": "execute_result"
    }
   ],
   "source": [
    "sales.groupby(by='week').agg({'week':'count'})\n"
   ]
  },
  {
   "cell_type": "code",
   "execution_count": 6,
   "id": "ddf793bc-3ee2-4b9f-a84d-1115cd10378d",
   "metadata": {
    "executionTime": 219,
    "lastSuccessfullyExecutedCode": "sales[['week']].value_counts()",
    "tags": []
   },
   "outputs": [
    {
     "data": {
      "text/plain": [
       "week\n",
       "1       3721\n",
       "4       2575\n",
       "5       2574\n",
       "2       2491\n",
       "3       2411\n",
       "6       1228\n",
       "dtype: int64"
      ]
     },
     "execution_count": 6,
     "metadata": {},
     "output_type": "execute_result"
    }
   ],
   "source": [
    "sales[['week']].value_counts()"
   ]
  },
  {
   "cell_type": "code",
   "execution_count": 7,
   "id": "18e4b38f-2d28-4e66-a485-4b9eb69597ad",
   "metadata": {
    "executionTime": 219,
    "lastSuccessfullyExecutedCode": "sales[['sales_method']].value_counts()\n",
    "tags": []
   },
   "outputs": [
    {
     "data": {
      "text/plain": [
       "sales_method\n",
       "Email           7456\n",
       "Call            4962\n",
       "Email + Call    2549\n",
       "em + call         23\n",
       "email             10\n",
       "dtype: int64"
      ]
     },
     "execution_count": 7,
     "metadata": {},
     "output_type": "execute_result"
    }
   ],
   "source": [
    "sales[['sales_method']].value_counts()\n"
   ]
  },
  {
   "cell_type": "code",
   "execution_count": 8,
   "id": "a715b97c-eee6-46ed-bd69-3ed7d3fab530",
   "metadata": {
    "collapsed": false,
    "executionTime": -1,
    "jupyter": {
     "outputs_hidden": false,
     "source_hidden": false
    },
    "lastSuccessfullyExecutedCode": "sales.replace(to_replace={'email':'Email','em + call':'Email + Call'},inplace=True)"
   },
   "outputs": [],
   "source": [
    "sales.replace(to_replace={'email':'Email','em + call':'Email + Call'},inplace=True)"
   ]
  },
  {
   "cell_type": "code",
   "execution_count": 9,
   "id": "20ad339d-56c5-4449-8bd4-4d0acfbebc6c",
   "metadata": {
    "executionTime": 237,
    "lastSuccessfullyExecutedCode": "sales[['customer_id']].nunique()",
    "tags": []
   },
   "outputs": [
    {
     "data": {
      "text/plain": [
       "customer_id    15000\n",
       "dtype: int64"
      ]
     },
     "execution_count": 9,
     "metadata": {},
     "output_type": "execute_result"
    }
   ],
   "source": [
    "sales[['customer_id']].nunique()"
   ]
  },
  {
   "cell_type": "code",
   "execution_count": 10,
   "id": "b59c9c33-b094-4491-b104-82ef4aa7fa0c",
   "metadata": {
    "executionTime": 232,
    "lastSuccessfullyExecutedCode": "sales[['nb_sold']].nunique()",
    "tags": []
   },
   "outputs": [
    {
     "data": {
      "text/plain": [
       "nb_sold    10\n",
       "dtype: int64"
      ]
     },
     "execution_count": 10,
     "metadata": {},
     "output_type": "execute_result"
    }
   ],
   "source": [
    "sales[['nb_sold']].nunique()"
   ]
  },
  {
   "cell_type": "code",
   "execution_count": 11,
   "id": "3d648e34-62ad-48b9-9874-d1dcedafae38",
   "metadata": {
    "executionTime": 264,
    "lastSuccessfullyExecutedCode": "sales[['revenue']].isna().sum()",
    "tags": []
   },
   "outputs": [
    {
     "data": {
      "text/plain": [
       "revenue    1074\n",
       "dtype: int64"
      ]
     },
     "execution_count": 11,
     "metadata": {},
     "output_type": "execute_result"
    }
   ],
   "source": [
    "sales[['revenue']].isna().sum()"
   ]
  },
  {
   "cell_type": "code",
   "execution_count": 12,
   "id": "d7d2bd16-29ab-492b-b5ae-d8844d7ded8b",
   "metadata": {
    "collapsed": false,
    "executionTime": 684,
    "jupyter": {
     "outputs_hidden": false,
     "source_hidden": false
    },
    "lastSuccessfullyExecutedCode": "#number of imposible values ( years as customer >39 years)\nto_drop=sales.query('years_as_customer>(2023-1984)').index.tolist()\n"
   },
   "outputs": [],
   "source": [
    "#number of imposible values ( years as customer >39 years)\n",
    "to_drop=sales.query('years_as_customer>(2023-1984)').index.tolist()\n"
   ]
  },
  {
   "cell_type": "code",
   "execution_count": 13,
   "id": "e285d619-fd9d-406d-9d89-6fb13909eb05",
   "metadata": {
    "collapsed": false,
    "executionTime": 0,
    "jupyter": {
     "outputs_hidden": false,
     "source_hidden": false
    },
    "lastSuccessfullyExecutedCode": "sales.drop(index=to_drop,inplace=True)"
   },
   "outputs": [],
   "source": [
    "sales.drop(index=to_drop,inplace=True)"
   ]
  },
  {
   "cell_type": "code",
   "execution_count": 14,
   "id": "1ffc4ec5-8490-4d80-bc55-58702e578bb6",
   "metadata": {
    "executionTime": 240,
    "lastSuccessfullyExecutedCode": "sales[['nb_site_visits']].value_counts()",
    "tags": []
   },
   "outputs": [
    {
     "data": {
      "text/plain": [
       "nb_site_visits\n",
       "25                1688\n",
       "26                1645\n",
       "24                1600\n",
       "23                1478\n",
       "27                1439\n",
       "22                1200\n",
       "28                1175\n",
       "21                 908\n",
       "29                 893\n",
       "30                 654\n",
       "20                 600\n",
       "19                 426\n",
       "31                 371\n",
       "32                 250\n",
       "18                 217\n",
       "33                 114\n",
       "17                 113\n",
       "16                  80\n",
       "34                  51\n",
       "35                  33\n",
       "15                  31\n",
       "36                  14\n",
       "14                   7\n",
       "37                   5\n",
       "13                   4\n",
       "12                   1\n",
       "41                   1\n",
       "dtype: int64"
      ]
     },
     "execution_count": 14,
     "metadata": {},
     "output_type": "execute_result"
    }
   ],
   "source": [
    "sales[['nb_site_visits']].value_counts()"
   ]
  },
  {
   "cell_type": "code",
   "execution_count": 15,
   "id": "f1fb39a8-5818-4a29-9be7-89640e350921",
   "metadata": {
    "executionTime": 239,
    "lastSuccessfullyExecutedCode": "sales[['state']].value_counts()",
    "tags": []
   },
   "outputs": [
    {
     "data": {
      "text/plain": [
       "state         \n",
       "California        1870\n",
       "Texas             1187\n",
       "New York           965\n",
       "Florida            904\n",
       "Illinois           617\n",
       "Pennsylvania       598\n",
       "Ohio               566\n",
       "Michigan           498\n",
       "Georgia            489\n",
       "North Carolina     459\n",
       "New Jersey         434\n",
       "Virginia           372\n",
       "Indiana            354\n",
       "Tennessee          340\n",
       "Washington         335\n",
       "Arizona            321\n",
       "Missouri           311\n",
       "Massachusetts      294\n",
       "Maryland           263\n",
       "Wisconsin          253\n",
       "Minnesota          245\n",
       "Louisiana          230\n",
       "Colorado           230\n",
       "Oregon             229\n",
       "South Carolina     224\n",
       "Alabama            214\n",
       "Kentucky           213\n",
       "Oklahoma           196\n",
       "Connecticut        179\n",
       "Iowa               165\n",
       "Kansas             142\n",
       "Mississippi        139\n",
       "Arkansas           132\n",
       "Utah               124\n",
       "Nevada             102\n",
       "Nebraska            91\n",
       "West Virginia       85\n",
       "New Mexico          84\n",
       "Hawaii              72\n",
       "Maine               63\n",
       "Idaho               62\n",
       "New Hampshire       53\n",
       "Montana             45\n",
       "Rhode Island        43\n",
       "South Dakota        41\n",
       "Alaska              40\n",
       "Delaware            34\n",
       "Wyoming             33\n",
       "North Dakota        30\n",
       "Vermont             28\n",
       "dtype: int64"
      ]
     },
     "execution_count": 15,
     "metadata": {},
     "output_type": "execute_result"
    }
   ],
   "source": [
    "sales[['state']].value_counts()"
   ]
  },
  {
   "cell_type": "code",
   "execution_count": 16,
   "id": "dacf34c0-c2af-4537-936b-9e0be3f8e498",
   "metadata": {
    "executionTime": 225,
    "lastSuccessfullyExecutedCode": "sales[['state']].nunique()",
    "tags": []
   },
   "outputs": [
    {
     "data": {
      "text/plain": [
       "state    50\n",
       "dtype: int64"
      ]
     },
     "execution_count": 16,
     "metadata": {},
     "output_type": "execute_result"
    }
   ],
   "source": [
    "sales[['state']].nunique()"
   ]
  },
  {
   "cell_type": "markdown",
   "id": "afff8756-1b37-40e5-9c2b-b682b25b4f43",
   "metadata": {},
   "source": [
    "# Missing values"
   ]
  },
  {
   "cell_type": "markdown",
   "id": "952f10bc-de31-4745-9ad6-0e1845a4d1ee",
   "metadata": {},
   "source": [
    "I will first check if there are missing values in the dataset: "
   ]
  },
  {
   "cell_type": "code",
   "execution_count": 17,
   "id": "970da6e9-46c1-462e-97fa-9049c85425b8",
   "metadata": {
    "collapsed": false,
    "executionTime": 309,
    "jupyter": {
     "outputs_hidden": false,
     "source_hidden": false
    },
    "lastSuccessfullyExecutedCode": "sales.isna().sum().plot(kind='bar',title='Null Values by columns')"
   },
   "outputs": [
    {
     "data": {
      "text/plain": [
       "<AxesSubplot:title={'center':'Null Values by columns'}>"
      ]
     },
     "execution_count": 17,
     "metadata": {},
     "output_type": "execute_result"
    },
    {
     "data": {
      "image/png": "[encoded data removed]",
      "text/plain": [
       "<Figure size 640x480 with 1 Axes>"
      ]
     },
     "metadata": {},
     "output_type": "display_data"
    }
   ],
   "source": [
    "sales.isna().sum().plot(kind='bar',title='Null Values by columns')"
   ]
  },
  {
   "cell_type": "markdown",
   "id": "89f387d7-6f0d-46ce-ae03-4795fc0507a3",
   "metadata": {
    "executionTime": 98,
    "lastSuccessfullyExecutedCode": "# null values distribution : \nsales['null_revenue']=sales['revenue'].isna()"
   },
   "source": [
    "**Distribution of Missing values  :** "
   ]
  },
  {
   "cell_type": "markdown",
   "id": "b289763f-dffb-46e9-a3b6-d907c6155149",
   "metadata": {},
   "source": [
    "Before I delete rows with missing values. I will make sure that the missing values arent from a particular category.\n",
    "\n",
    "If they are we should inform the data collection team and they should take the apropiate steps to solve the issue."
   ]
  },
  {
   "cell_type": "code",
   "execution_count": 18,
   "id": "523aba91-5604-4b6a-9b9a-75241504f3cb",
   "metadata": {
    "collapsed": false,
    "executionTime": 0,
    "jupyter": {
     "outputs_hidden": false,
     "source_hidden": false
    },
    "lastSuccessfullyExecutedCode": "sales['null_revenue']=sales['revenue'].isna()"
   },
   "outputs": [],
   "source": [
    "sales['null_revenue']=sales['revenue'].isna()"
   ]
  },
  {
   "cell_type": "code",
   "execution_count": 19,
   "id": "cbd62bd7-216a-4d5c-a38b-89816ba03e4c",
   "metadata": {
    "collapsed": false,
    "executionTime": 266,
    "jupyter": {
     "outputs_hidden": false,
     "source_hidden": false
    },
    "lastSuccessfullyExecutedCode": "# percentage of null values :\n\ngroup_by_week=sales.pivot_table(index='week',values='null_revenue')\ngroup_by_week['null_revenue']*=100\ngroup_by_week.round(decimals=1).plot(kind='bar',title='Missing data values by week')"
   },
   "outputs": [
    {
     "data": {
      "text/plain": [
       "<AxesSubplot:title={'center':'Missing data values by week'}, xlabel='week'>"
      ]
     },
     "execution_count": 19,
     "metadata": {},
     "output_type": "execute_result"
    },
    {
     "data": {
      "image/png": "[encoded data removed]",
      "text/plain": [
       "<Figure size 640x480 with 1 Axes>"
      ]
     },
     "metadata": {},
     "output_type": "display_data"
    }
   ],
   "source": [
    "# percentage of null values :\n",
    "\n",
    "group_by_week=sales.pivot_table(index='week',values='null_revenue')\n",
    "group_by_week['null_revenue']*=100\n",
    "group_by_week.round(decimals=1).plot(kind='bar',title='Missing data values by week')"
   ]
  },
  {
   "cell_type": "code",
   "execution_count": 20,
   "id": "401e0a29-3614-4385-8c72-142b771485ad",
   "metadata": {
    "collapsed": false,
    "executionTime": 358,
    "jupyter": {
     "outputs_hidden": false,
     "source_hidden": false
    },
    "lastSuccessfullyExecutedCode": "\ngroup_by_method=sales.pivot_table(index='sales_method',values='null_revenue')\ngroup_by_method['null_revenue']*=100\ngroup_by_method.round(decimals=1).plot(kind='bar',title='missing data by sales method')"
   },
   "outputs": [
    {
     "data": {
      "text/plain": [
       "<AxesSubplot:title={'center':'missing data by sales method'}, xlabel='sales_method'>"
      ]
     },
     "execution_count": 20,
     "metadata": {},
     "output_type": "execute_result"
    },
    {
     "data": {
      "image/png": "[encoded data removed]",
      "text/plain": [
       "<Figure size 640x480 with 1 Axes>"
      ]
     },
     "metadata": {},
     "output_type": "display_data"
    }
   ],
   "source": [
    "\n",
    "group_by_method=sales.pivot_table(index='sales_method',values='null_revenue')\n",
    "group_by_method['null_revenue']*=100\n",
    "group_by_method.round(decimals=1).plot(kind='bar',title='missing data by sales method')"
   ]
  },
  {
   "cell_type": "code",
   "execution_count": 21,
   "id": "5c831e6e-53e1-46e7-a98a-e0a64e6eb68d",
   "metadata": {
    "collapsed": false,
    "executionTime": 282,
    "jupyter": {
     "outputs_hidden": false,
     "source_hidden": false
    },
    "lastSuccessfullyExecutedCode": "group_by_state=sales.pivot_table(index='state',values='null_revenue')\ngroup_by_state['null_revenue']*=100\ngroup_by_state.round(decimals=1).plot(kind='bar',title= 'missing data by state')\n\n"
   },
   "outputs": [
    {
     "data": {
      "text/plain": [
       "<AxesSubplot:title={'center':'missing data by state'}, xlabel='state'>"
      ]
     },
     "execution_count": 21,
     "metadata": {},
     "output_type": "execute_result"
    },
    {
     "data": {
      "image/png": "[encoded data removed]",
      "text/plain": [
       "<Figure size 640x480 with 1 Axes>"
      ]
     },
     "metadata": {},
     "output_type": "display_data"
    }
   ],
   "source": [
    "group_by_state=sales.pivot_table(index='state',values='null_revenue')\n",
    "group_by_state['null_revenue']*=100\n",
    "group_by_state.round(decimals=1).plot(kind='bar',title= 'missing data by state')\n",
    "\n"
   ]
  },
  {
   "cell_type": "markdown",
   "id": "e0c19b58-257f-4b8a-b165-81db10bd086c",
   "metadata": {},
   "source": [
    "The missing values dont come from a particular category.\n",
    "\n",
    "I will be deleting rows containing null values from the dataset "
   ]
  },
  {
   "cell_type": "code",
   "execution_count": 22,
   "id": "d7db7ab3-4ed9-4bc4-b515-86244ee37ff4",
   "metadata": {
    "executionTime": 238,
    "lastSuccessfullyExecutedCode": "sales.dropna(inplace=True)\nsales.drop(columns=['null_revenue'],inplace=True)\nsales.shape",
    "tags": []
   },
   "outputs": [
    {
     "data": {
      "text/plain": [
       "(13924, 8)"
      ]
     },
     "execution_count": 22,
     "metadata": {},
     "output_type": "execute_result"
    }
   ],
   "source": [
    "sales.dropna(inplace=True)\n",
    "sales.drop(columns=['null_revenue'],inplace=True)\n",
    "sales.shape"
   ]
  },
  {
   "cell_type": "markdown",
   "id": "c8f1f593-4494-47d9-a30e-2aa60c12181c",
   "metadata": {},
   "source": [
    "# Data validation "
   ]
  },
  {
   "cell_type": "markdown",
   "id": "78eb5f9e-2631-44f7-ab32-cb27833eff52",
   "metadata": {},
   "source": [
    "The dataset contains 15000 rows and 8 columns before cleaning and validataion. I have validated all the columns against the criteria in the dataset table:\n",
    "1. week: Weeks from 1 to 6 withouth missing values dtype is int64. No cleaning needed \n",
    "2. sales_method: Should be one of three values ( 'Email','Call','Email + Call').However We also find entries of 'em + call' and 'email'. I replace 'email' with 'Email' and 'em + call' with 'Email + Call'. No further cleaning needed\n",
    "3. customer_id: 15000 unique customer_id values. No cleaning needed\n",
    "4. nb_sold: Number of products sold.10 unique values and no missing values dtype is int64. No cleaning needed\n",
    "5. revenue: revenue from the sales dtype is float64. there are 1074 missing values. I first checked if  the missing values are from a specific week,sales method or state. The values are missing at random so we can delete all rows with a missing revenue value for future analisys.\n",
    "6. years_as_customer:Number of years customer has been buying from the company. The company has ben open for business since 1984 (39 years).There are two entries of customers with more than 39years as customers. Those will be deleted \n",
    "7. nb_site_visits: number of times the customer has visited our website in the last 6 months. dtype is int64.No cleaning needed\n",
    "8. state: Location of the customer. There are 50 unique values. Each corresponding to a different state . No cleaning needed  \n",
    "\n",
    "**After data validation, the dataset contains 13924 rows and 8 columns without missing values.**"
   ]
  },
  {
   "cell_type": "markdown",
   "id": "603692a7-0f51-4e90-9af1-27a17217b55e",
   "metadata": {},
   "source": [
    "# How many customers were there for each approach?"
   ]
  },
  {
   "cell_type": "code",
   "execution_count": 23,
   "id": "3cf79640-3449-49db-aa57-c3aeb1a89060",
   "metadata": {
    "executionTime": 276,
    "lastSuccessfullyExecutedCode": "sales.head()",
    "tags": []
   },
   "outputs": [
    {
     "data": {
      "text/html": [
       "<div>\n",
       "<style scoped>\n",
       "    .dataframe tbody tr th:only-of-type {\n",
       "        vertical-align: middle;\n",
       "    }\n",
       "\n",
       "    .dataframe tbody tr th {\n",
       "        vertical-align: top;\n",
       "    }\n",
       "\n",
       "    .dataframe thead th {\n",
       "        text-align: right;\n",
       "    }\n",
       "</style>\n",
       "<table border=\"1\" class=\"dataframe\">\n",
       "  <thead>\n",
       "    <tr style=\"text-align: right;\">\n",
       "      <th></th>\n",
       "      <th>week</th>\n",
       "      <th>sales_method</th>\n",
       "      <th>customer_id</th>\n",
       "      <th>nb_sold</th>\n",
       "      <th>revenue</th>\n",
       "      <th>years_as_customer</th>\n",
       "      <th>nb_site_visits</th>\n",
       "      <th>state</th>\n",
       "    </tr>\n",
       "  </thead>\n",
       "  <tbody>\n",
       "    <tr>\n",
       "      <th>1</th>\n",
       "      <td>6</td>\n",
       "      <td>Email + Call</td>\n",
       "      <td>3998a98d-70f5-44f7-942e-789bb8ad2fe7</td>\n",
       "      <td>15</td>\n",
       "      <td>225.47</td>\n",
       "      <td>1</td>\n",
       "      <td>28</td>\n",
       "      <td>Kansas</td>\n",
       "    </tr>\n",
       "    <tr>\n",
       "      <th>2</th>\n",
       "      <td>5</td>\n",
       "      <td>Call</td>\n",
       "      <td>d1de9884-8059-4065-b10f-86eef57e4a44</td>\n",
       "      <td>11</td>\n",
       "      <td>52.55</td>\n",
       "      <td>6</td>\n",
       "      <td>26</td>\n",
       "      <td>Wisconsin</td>\n",
       "    </tr>\n",
       "    <tr>\n",
       "      <th>4</th>\n",
       "      <td>3</td>\n",
       "      <td>Email</td>\n",
       "      <td>10e6d446-10a5-42e5-8210-1b5438f70922</td>\n",
       "      <td>9</td>\n",
       "      <td>90.49</td>\n",
       "      <td>0</td>\n",
       "      <td>28</td>\n",
       "      <td>Illinois</td>\n",
       "    </tr>\n",
       "    <tr>\n",
       "      <th>5</th>\n",
       "      <td>6</td>\n",
       "      <td>Call</td>\n",
       "      <td>6489e678-40f2-4fed-a48e-d0dff9c09205</td>\n",
       "      <td>13</td>\n",
       "      <td>65.01</td>\n",
       "      <td>10</td>\n",
       "      <td>24</td>\n",
       "      <td>Mississippi</td>\n",
       "    </tr>\n",
       "    <tr>\n",
       "      <th>6</th>\n",
       "      <td>4</td>\n",
       "      <td>Email</td>\n",
       "      <td>eb6bd5f1-f115-4e4b-80a6-5e67fcfbfb94</td>\n",
       "      <td>11</td>\n",
       "      <td>113.38</td>\n",
       "      <td>9</td>\n",
       "      <td>28</td>\n",
       "      <td>Georgia</td>\n",
       "    </tr>\n",
       "  </tbody>\n",
       "</table>\n",
       "</div>"
      ],
      "text/plain": [
       "   week  sales_method                           customer_id  nb_sold  revenue  \\\n",
       "1     6  Email + Call  3998a98d-70f5-44f7-942e-789bb8ad2fe7       15   225.47   \n",
       "2     5          Call  d1de9884-8059-4065-b10f-86eef57e4a44       11    52.55   \n",
       "4     3         Email  10e6d446-10a5-42e5-8210-1b5438f70922        9    90.49   \n",
       "5     6          Call  6489e678-40f2-4fed-a48e-d0dff9c09205       13    65.01   \n",
       "6     4         Email  eb6bd5f1-f115-4e4b-80a6-5e67fcfbfb94       11   113.38   \n",
       "\n",
       "   years_as_customer  nb_site_visits        state  \n",
       "1                  1              28       Kansas  \n",
       "2                  6              26    Wisconsin  \n",
       "4                  0              28     Illinois  \n",
       "5                 10              24  Mississippi  \n",
       "6                  9              28      Georgia  "
      ]
     },
     "execution_count": 23,
     "metadata": {},
     "output_type": "execute_result"
    }
   ],
   "source": [
    "sales.head()"
   ]
  },
  {
   "cell_type": "code",
   "execution_count": 24,
   "id": "cd180d4b-44e1-43b0-b90b-a80fa202b2cf",
   "metadata": {
    "collapsed": false,
    "executionTime": 429,
    "jupyter": {
     "outputs_hidden": false,
     "source_hidden": false
    },
    "lastSuccessfullyExecutedCode": "customers_per_approach=pd.pivot_table(sales,values='customer_id',index='sales_method',aggfunc=('count'))\ncustomers_per_approach.rename(columns={'customer_id':'number_of_customers'},inplace=True)\ncustomers_per_approach['percentage_of_total']=(customers_per_approach['number_of_customers']/customers_per_approach['number_of_customers'].sum()*100).round(decimals=1)\ncustomers_per_approach.head()"
   },
   "outputs": [
    {
     "data": {
      "text/html": [
       "<div>\n",
       "<style scoped>\n",
       "    .dataframe tbody tr th:only-of-type {\n",
       "        vertical-align: middle;\n",
       "    }\n",
       "\n",
       "    .dataframe tbody tr th {\n",
       "        vertical-align: top;\n",
       "    }\n",
       "\n",
       "    .dataframe thead th {\n",
       "        text-align: right;\n",
       "    }\n",
       "</style>\n",
       "<table border=\"1\" class=\"dataframe\">\n",
       "  <thead>\n",
       "    <tr style=\"text-align: right;\">\n",
       "      <th></th>\n",
       "      <th>number_of_customers</th>\n",
       "      <th>percentage_of_total</th>\n",
       "    </tr>\n",
       "    <tr>\n",
       "      <th>sales_method</th>\n",
       "      <th></th>\n",
       "      <th></th>\n",
       "    </tr>\n",
       "  </thead>\n",
       "  <tbody>\n",
       "    <tr>\n",
       "      <th>Call</th>\n",
       "      <td>4780</td>\n",
       "      <td>34.3</td>\n",
       "    </tr>\n",
       "    <tr>\n",
       "      <th>Email</th>\n",
       "      <td>6921</td>\n",
       "      <td>49.7</td>\n",
       "    </tr>\n",
       "    <tr>\n",
       "      <th>Email + Call</th>\n",
       "      <td>2223</td>\n",
       "      <td>16.0</td>\n",
       "    </tr>\n",
       "  </tbody>\n",
       "</table>\n",
       "</div>"
      ],
      "text/plain": [
       "              number_of_customers  percentage_of_total\n",
       "sales_method                                          \n",
       "Call                         4780                 34.3\n",
       "Email                        6921                 49.7\n",
       "Email + Call                 2223                 16.0"
      ]
     },
     "execution_count": 24,
     "metadata": {},
     "output_type": "execute_result"
    }
   ],
   "source": [
    "customers_per_approach=pd.pivot_table(sales,values='customer_id',index='sales_method',aggfunc=('count'))\n",
    "customers_per_approach.rename(columns={'customer_id':'number_of_customers'},inplace=True)\n",
    "customers_per_approach['percentage_of_total']=(customers_per_approach['number_of_customers']/customers_per_approach['number_of_customers'].sum()*100).round(decimals=1)\n",
    "customers_per_approach.head()"
   ]
  },
  {
   "cell_type": "code",
   "execution_count": 26,
   "id": "be37c857-c89b-48b4-9d5c-afcb22653492",
   "metadata": {
    "collapsed": false,
    "executionTime": 274,
    "jupyter": {
     "outputs_hidden": false,
     "source_hidden": false
    },
    "lastSuccessfullyExecutedCode": "customers_per_approach['number_of_customers'].plot(kind='bar',title='Customers by sales method',legend=False)"
   },
   "outputs": [
    {
     "data": {
      "text/plain": [
       "<AxesSubplot:title={'center':'Customers by sales method'}, xlabel='sales_method'>"
      ]
     },
     "execution_count": 26,
     "metadata": {},
     "output_type": "execute_result"
    },
    {
     "data": {
      "image/png": "[encoded data removed]",
      "text/plain": [
       "<Figure size 640x480 with 1 Axes>"
      ]
     },
     "metadata": {},
     "output_type": "display_data"
    }
   ],
   "source": [
    "customers_per_approach['number_of_customers'].plot(kind='bar',title='Customers by sales method',legend=False)"
   ]
  },
  {
   "cell_type": "markdown",
   "id": "a9064ad0-201b-467f-9f6c-0611a5642fdc",
   "metadata": {},
   "source": [
    " The group of customers in the Email group is the biggest of the three,with 6921 customers, followed by Call with 4780, and lastly Email + Call  with only 2223.\n",
    " \n",
    " The sales method that got the most customers are in order:\n",
    "1. **Email** with **49.7%** of the total\n",
    "2. **Call** with **34.3%** of the total\n",
    "3. **Email + Call** with **16%** of the total"
   ]
  },
  {
   "cell_type": "markdown",
   "id": "87eeb6ae-98d7-4472-ac70-bf7ab37e1653",
   "metadata": {},
   "source": [
    "# Revenue per approach"
   ]
  },
  {
   "cell_type": "code",
   "execution_count": 27,
   "id": "ca5aaa90-61fb-4104-acfa-ca8b02352eae",
   "metadata": {
    "collapsed": false,
    "executionTime": 290,
    "jupyter": {
     "outputs_hidden": false,
     "source_hidden": false
    },
    "lastSuccessfullyExecutedCode": "r=pd.pivot_table(sales,index='sales_method',values='revenue',aggfunc=np.sum)\nr['percentage_of_total']=(r['revenue']/r['revenue'].sum()*100).round(decimals=1)\nr\n#r.sort_values()\n#r_tot.loc['Total']=r_tot.sum()\n#r_tot"
   },
   "outputs": [
    {
     "data": {
      "text/html": [
       "<div>\n",
       "<style scoped>\n",
       "    .dataframe tbody tr th:only-of-type {\n",
       "        vertical-align: middle;\n",
       "    }\n",
       "\n",
       "    .dataframe tbody tr th {\n",
       "        vertical-align: top;\n",
       "    }\n",
       "\n",
       "    .dataframe thead th {\n",
       "        text-align: right;\n",
       "    }\n",
       "</style>\n",
       "<table border=\"1\" class=\"dataframe\">\n",
       "  <thead>\n",
       "    <tr style=\"text-align: right;\">\n",
       "      <th></th>\n",
       "      <th>revenue</th>\n",
       "      <th>percentage_of_total</th>\n",
       "    </tr>\n",
       "    <tr>\n",
       "      <th>sales_method</th>\n",
       "      <th></th>\n",
       "      <th></th>\n",
       "    </tr>\n",
       "  </thead>\n",
       "  <tbody>\n",
       "    <tr>\n",
       "      <th>Call</th>\n",
       "      <td>227513.02</td>\n",
       "      <td>17.4</td>\n",
       "    </tr>\n",
       "    <tr>\n",
       "      <th>Email</th>\n",
       "      <td>672220.61</td>\n",
       "      <td>51.4</td>\n",
       "    </tr>\n",
       "    <tr>\n",
       "      <th>Email + Call</th>\n",
       "      <td>408256.69</td>\n",
       "      <td>31.2</td>\n",
       "    </tr>\n",
       "  </tbody>\n",
       "</table>\n",
       "</div>"
      ],
      "text/plain": [
       "                revenue  percentage_of_total\n",
       "sales_method                                \n",
       "Call          227513.02                 17.4\n",
       "Email         672220.61                 51.4\n",
       "Email + Call  408256.69                 31.2"
      ]
     },
     "execution_count": 27,
     "metadata": {},
     "output_type": "execute_result"
    }
   ],
   "source": [
    "r=pd.pivot_table(sales,index='sales_method',values='revenue',aggfunc=np.sum)\n",
    "r['percentage_of_total']=(r['revenue']/r['revenue'].sum()*100).round(decimals=1)\n",
    "r\n",
    "#r.sort_values()\n",
    "#r_tot.loc['Total']=r_tot.sum()\n",
    "#r_tot"
   ]
  },
  {
   "cell_type": "markdown",
   "id": "098d2268-e4c0-41ab-a756-66bf54b95c29",
   "metadata": {},
   "source": [
    "The sales method that generated the most revenue are in order:\n",
    "1.  **Email** with **51.4%** of the total\n",
    "2.  **Email + Call** with **31.2%** of the total\n",
    "3.  **Call** with **17.4%** of the total"
   ]
  },
  {
   "cell_type": "code",
   "execution_count": 28,
   "id": "b276ed45-6120-400f-9117-81c74ec17ee2",
   "metadata": {
    "collapsed": false,
    "executionTime": 263,
    "jupyter": {
     "outputs_hidden": false,
     "source_hidden": false
    },
    "lastSuccessfullyExecutedCode": "r['revenue'].plot(kind='bar',title='Total Revenue by sales method')"
   },
   "outputs": [
    {
     "data": {
      "text/plain": [
       "<AxesSubplot:title={'center':'Total Revenue by sales method'}, xlabel='sales_method'>"
      ]
     },
     "execution_count": 28,
     "metadata": {},
     "output_type": "execute_result"
    },
    {
     "data": {
      "image/png": "[encoded data removed]",
      "text/plain": [
       "<Figure size 640x480 with 1 Axes>"
      ]
     },
     "metadata": {},
     "output_type": "display_data"
    }
   ],
   "source": [
    "r['revenue'].plot(kind='bar',title='Total Revenue by sales method')"
   ]
  },
  {
   "cell_type": "markdown",
   "id": "c2c70c02-12f8-4791-86a7-755302de92c8",
   "metadata": {
    "executionTime": 135,
    "lastSuccessfullyExecutedCode": "#Spread of revenue per approach"
   },
   "source": [
    "# Spread of revenue"
   ]
  },
  {
   "cell_type": "markdown",
   "id": "2cb24d98-e89c-4db4-947d-372249c06478",
   "metadata": {},
   "source": [
    "# Distribution of revenue per customer :"
   ]
  },
  {
   "cell_type": "code",
   "execution_count": 29,
   "id": "306bf3ea-c0d4-4f2d-9a11-ae9f6a415520",
   "metadata": {
    "executionTime": 255,
    "lastSuccessfullyExecutedCode": "r=sales['revenue'].describe() \nr.round(1)\n\n#print(f' mean:{round(r[1],2)} \\n std:{round(r[2],2)} \\n min:{r[3]} \\n max:{r[7]} \\n 25%:{r[4]} \\n 50%:{r[5]} \\n 75%:{r[6]}')",
    "tags": []
   },
   "outputs": [
    {
     "data": {
      "text/plain": [
       "count    13924.0\n",
       "mean        93.9\n",
       "std         47.4\n",
       "min         32.5\n",
       "25%         52.5\n",
       "50%         89.5\n",
       "75%        107.3\n",
       "max        238.3\n",
       "Name: revenue, dtype: float64"
      ]
     },
     "execution_count": 29,
     "metadata": {},
     "output_type": "execute_result"
    }
   ],
   "source": [
    "r=sales['revenue'].describe() \n",
    "r.round(1)\n",
    "\n",
    "#print(f' mean:{round(r[1],2)} \\n std:{round(r[2],2)} \\n min:{r[3]} \\n max:{r[7]} \\n 25%:{r[4]} \\n 50%:{r[5]} \\n 75%:{r[6]}')"
   ]
  },
  {
   "cell_type": "markdown",
   "id": "62a38d56-363c-4649-a372-e98c6cd07f87",
   "metadata": {},
   "source": [
    "- The **average** revenue generated per customer is **93.9**\n",
    "- The **25 percentile** of revenue per customer is **52.5**\n",
    "- the **75 percentile** of revenue per customer is **107.3**\n",
    "- the **50 percentile** of revenue per customer is **89.5**\n",
    "- the **max revenue** by a single customer is **238.3** \n",
    "- the **min revenue** by a single customer is **32.5**"
   ]
  },
  {
   "cell_type": "code",
   "execution_count": 30,
   "id": "6f53d3f2-5f3e-4168-8b5d-9828987e6734",
   "metadata": {
    "collapsed": false,
    "executionTime": 408,
    "jupyter": {
     "outputs_hidden": false,
     "source_hidden": false
    },
    "lastSuccessfullyExecutedCode": "# box plot \nplt.style.use('classic')\nsales.boxplot(column='revenue').set_title('revenue per customer')\nplt.suptitle('')\nplt.show()\n#sns.boxplot(data=sales,y='revenue',width=0.3,fliersize=3)\n#sales.plot(kind='box',x='revenue')"
   },
   "outputs": [
    {
     "data": {
      "image/png": "[encoded data removed]",
      "text/plain": [
       "<Figure size 640x480 with 1 Axes>"
      ]
     },
     "metadata": {},
     "output_type": "display_data"
    }
   ],
   "source": [
    "# box plot \n",
    "plt.style.use('classic')\n",
    "sales.boxplot(column='revenue').set_title('revenue per customer')\n",
    "plt.suptitle('')\n",
    "plt.show()\n",
    "#sns.boxplot(data=sales,y='revenue',width=0.3,fliersize=3)\n",
    "#sales.plot(kind='box',x='revenue')"
   ]
  },
  {
   "cell_type": "markdown",
   "id": "c4d81907-3b22-48a5-915d-d331dfd37618",
   "metadata": {},
   "source": [
    "# Distribution of revenue per sales method :"
   ]
  },
  {
   "cell_type": "code",
   "execution_count": 31,
   "id": "55463e9b-5554-42ff-8bda-33f1d3a39bbe",
   "metadata": {
    "collapsed": false,
    "executionTime": 570,
    "jupyter": {
     "outputs_hidden": false,
     "source_hidden": false
    },
    "lastSuccessfullyExecutedCode": "r=pd.pivot_table(sales,index='customer_id',values='revenue',columns='sales_method')\ndistribution=r.describe().round(decimals=1)\ndistribution.drop(index=['count'],inplace=True)\ndistribution"
   },
   "outputs": [
    {
     "data": {
      "text/html": [
       "<div>\n",
       "<style scoped>\n",
       "    .dataframe tbody tr th:only-of-type {\n",
       "        vertical-align: middle;\n",
       "    }\n",
       "\n",
       "    .dataframe tbody tr th {\n",
       "        vertical-align: top;\n",
       "    }\n",
       "\n",
       "    .dataframe thead th {\n",
       "        text-align: right;\n",
       "    }\n",
       "</style>\n",
       "<table border=\"1\" class=\"dataframe\">\n",
       "  <thead>\n",
       "    <tr style=\"text-align: right;\">\n",
       "      <th>sales_method</th>\n",
       "      <th>Call</th>\n",
       "      <th>Email</th>\n",
       "      <th>Email + Call</th>\n",
       "    </tr>\n",
       "  </thead>\n",
       "  <tbody>\n",
       "    <tr>\n",
       "      <th>mean</th>\n",
       "      <td>47.6</td>\n",
       "      <td>97.1</td>\n",
       "      <td>183.7</td>\n",
       "    </tr>\n",
       "    <tr>\n",
       "      <th>std</th>\n",
       "      <td>8.6</td>\n",
       "      <td>11.2</td>\n",
       "      <td>29.1</td>\n",
       "    </tr>\n",
       "    <tr>\n",
       "      <th>min</th>\n",
       "      <td>32.5</td>\n",
       "      <td>78.8</td>\n",
       "      <td>122.1</td>\n",
       "    </tr>\n",
       "    <tr>\n",
       "      <th>25%</th>\n",
       "      <td>41.5</td>\n",
       "      <td>87.9</td>\n",
       "      <td>155.8</td>\n",
       "    </tr>\n",
       "    <tr>\n",
       "      <th>50%</th>\n",
       "      <td>49.0</td>\n",
       "      <td>95.6</td>\n",
       "      <td>184.7</td>\n",
       "    </tr>\n",
       "    <tr>\n",
       "      <th>75%</th>\n",
       "      <td>52.7</td>\n",
       "      <td>105.2</td>\n",
       "      <td>191.1</td>\n",
       "    </tr>\n",
       "    <tr>\n",
       "      <th>max</th>\n",
       "      <td>71.4</td>\n",
       "      <td>149.0</td>\n",
       "      <td>238.3</td>\n",
       "    </tr>\n",
       "  </tbody>\n",
       "</table>\n",
       "</div>"
      ],
      "text/plain": [
       "sales_method  Call  Email  Email + Call\n",
       "mean          47.6   97.1         183.7\n",
       "std            8.6   11.2          29.1\n",
       "min           32.5   78.8         122.1\n",
       "25%           41.5   87.9         155.8\n",
       "50%           49.0   95.6         184.7\n",
       "75%           52.7  105.2         191.1\n",
       "max           71.4  149.0         238.3"
      ]
     },
     "execution_count": 31,
     "metadata": {},
     "output_type": "execute_result"
    }
   ],
   "source": [
    "r=pd.pivot_table(sales,index='customer_id',values='revenue',columns='sales_method')\n",
    "distribution=r.describe().round(decimals=1)\n",
    "distribution.drop(index=['count'],inplace=True)\n",
    "distribution"
   ]
  },
  {
   "cell_type": "markdown",
   "id": "dcb71455-b02c-46ad-91c1-f1c3c315d8f6",
   "metadata": {},
   "source": [
    "By separating the revenue per customer by sales method we can gain a few more insights:\n",
    "\n",
    "- **Email + Call** generated the **most revenue** per customer on average : **183.7** .But it also had the more spread (std=29.1)\n"
   ]
  },
  {
   "cell_type": "code",
   "execution_count": 32,
   "id": "3f504929-2063-4c35-854b-a24024925ba4",
   "metadata": {
    "collapsed": false,
    "executionTime": 247,
    "jupyter": {
     "outputs_hidden": false,
     "source_hidden": false
    },
    "lastSuccessfullyExecutedCode": "sales.boxplot(column='revenue',by='sales_method').set_title('revenue per customer by sales method')\nplt.suptitle('')\nplt.show()"
   },
   "outputs": [
    {
     "data": {
      "image/png": "[encoded data removed]",
      "text/plain": [
       "<Figure size 640x480 with 1 Axes>"
      ]
     },
     "metadata": {},
     "output_type": "display_data"
    }
   ],
   "source": [
    "sales.boxplot(column='revenue',by='sales_method').set_title('revenue per customer by sales method')\n",
    "plt.suptitle('')\n",
    "plt.show()"
   ]
  },
  {
   "cell_type": "markdown",
   "id": "2fda09a8-a6e4-4571-943c-13ea08582d77",
   "metadata": {},
   "source": [
    "We can also see that:\n",
    "- Customers in the **Email + Call** group, on average, **bought more units** of the new products"
   ]
  },
  {
   "cell_type": "code",
   "execution_count": 33,
   "id": "e56faaf7-d4d4-4ec4-a520-199542ef6738",
   "metadata": {
    "collapsed": false,
    "executionTime": 243,
    "jupyter": {
     "outputs_hidden": false,
     "source_hidden": false
    },
    "lastSuccessfullyExecutedCode": "sales.boxplot(column='nb_sold',by='sales_method').set_title('units sold per customer by sales method')\nplt.suptitle('')\nplt.show()"
   },
   "outputs": [
    {
     "data": {
      "image/png": "[encoded data removed]",
      "text/plain": [
       "<Figure size 640x480 with 1 Axes>"
      ]
     },
     "metadata": {},
     "output_type": "display_data"
    }
   ],
   "source": [
    "sales.boxplot(column='nb_sold',by='sales_method').set_title('units sold per customer by sales method')\n",
    "plt.suptitle('')\n",
    "plt.show()"
   ]
  },
  {
   "cell_type": "code",
   "execution_count": 34,
   "id": "628fde1b-8b2f-4d2a-84bc-351309629142",
   "metadata": {
    "executionTime": 261,
    "lastSuccessfullyExecutedCode": "r=pd.pivot_table(sales,index='customer_id',values='nb_sold',columns='sales_method')\nr.describe().round(decimals=2)",
    "tags": []
   },
   "outputs": [
    {
     "data": {
      "text/html": [
       "<div>\n",
       "<style scoped>\n",
       "    .dataframe tbody tr th:only-of-type {\n",
       "        vertical-align: middle;\n",
       "    }\n",
       "\n",
       "    .dataframe tbody tr th {\n",
       "        vertical-align: top;\n",
       "    }\n",
       "\n",
       "    .dataframe thead th {\n",
       "        text-align: right;\n",
       "    }\n",
       "</style>\n",
       "<table border=\"1\" class=\"dataframe\">\n",
       "  <thead>\n",
       "    <tr style=\"text-align: right;\">\n",
       "      <th>sales_method</th>\n",
       "      <th>Call</th>\n",
       "      <th>Email</th>\n",
       "      <th>Email + Call</th>\n",
       "    </tr>\n",
       "  </thead>\n",
       "  <tbody>\n",
       "    <tr>\n",
       "      <th>count</th>\n",
       "      <td>4780.00</td>\n",
       "      <td>6921.00</td>\n",
       "      <td>2223.00</td>\n",
       "    </tr>\n",
       "    <tr>\n",
       "      <th>mean</th>\n",
       "      <td>9.50</td>\n",
       "      <td>9.72</td>\n",
       "      <td>12.19</td>\n",
       "    </tr>\n",
       "    <tr>\n",
       "      <th>std</th>\n",
       "      <td>1.73</td>\n",
       "      <td>1.18</td>\n",
       "      <td>1.93</td>\n",
       "    </tr>\n",
       "    <tr>\n",
       "      <th>min</th>\n",
       "      <td>7.00</td>\n",
       "      <td>8.00</td>\n",
       "      <td>8.00</td>\n",
       "    </tr>\n",
       "    <tr>\n",
       "      <th>25%</th>\n",
       "      <td>8.00</td>\n",
       "      <td>9.00</td>\n",
       "      <td>10.00</td>\n",
       "    </tr>\n",
       "    <tr>\n",
       "      <th>50%</th>\n",
       "      <td>10.00</td>\n",
       "      <td>10.00</td>\n",
       "      <td>12.00</td>\n",
       "    </tr>\n",
       "    <tr>\n",
       "      <th>75%</th>\n",
       "      <td>11.00</td>\n",
       "      <td>11.00</td>\n",
       "      <td>13.00</td>\n",
       "    </tr>\n",
       "    <tr>\n",
       "      <th>max</th>\n",
       "      <td>14.00</td>\n",
       "      <td>15.00</td>\n",
       "      <td>16.00</td>\n",
       "    </tr>\n",
       "  </tbody>\n",
       "</table>\n",
       "</div>"
      ],
      "text/plain": [
       "sales_method     Call    Email  Email + Call\n",
       "count         4780.00  6921.00       2223.00\n",
       "mean             9.50     9.72         12.19\n",
       "std              1.73     1.18          1.93\n",
       "min              7.00     8.00          8.00\n",
       "25%              8.00     9.00         10.00\n",
       "50%             10.00    10.00         12.00\n",
       "75%             11.00    11.00         13.00\n",
       "max             14.00    15.00         16.00"
      ]
     },
     "execution_count": 34,
     "metadata": {},
     "output_type": "execute_result"
    }
   ],
   "source": [
    "r=pd.pivot_table(sales,index='customer_id',values='nb_sold',columns='sales_method')\n",
    "r.describe().round(decimals=2)"
   ]
  },
  {
   "cell_type": "markdown",
   "id": "8dfd497d-40e1-40b4-8453-d8a752a71674",
   "metadata": {},
   "source": [
    "# Revenue over time per method:"
   ]
  },
  {
   "cell_type": "markdown",
   "id": "5b100979-b664-493a-b2dd-62cbbf0ac58b",
   "metadata": {},
   "source": [
    "**Total revenue over time by sales method:**"
   ]
  },
  {
   "cell_type": "code",
   "execution_count": 35,
   "id": "2460f879-7d68-41c5-9826-f3533d4a171c",
   "metadata": {
    "collapsed": false,
    "executionTime": 255,
    "jupyter": {
     "outputs_hidden": false,
     "source_hidden": false
    },
    "lastSuccessfullyExecutedCode": "revenue_per_week=pd.pivot_table(sales,index='week',values='revenue',columns='sales_method',aggfunc=np.sum)\nrevenue_per_week.round(decimals=2)\n"
   },
   "outputs": [
    {
     "data": {
      "text/html": [
       "<div>\n",
       "<style scoped>\n",
       "    .dataframe tbody tr th:only-of-type {\n",
       "        vertical-align: middle;\n",
       "    }\n",
       "\n",
       "    .dataframe tbody tr th {\n",
       "        vertical-align: top;\n",
       "    }\n",
       "\n",
       "    .dataframe thead th {\n",
       "        text-align: right;\n",
       "    }\n",
       "</style>\n",
       "<table border=\"1\" class=\"dataframe\">\n",
       "  <thead>\n",
       "    <tr style=\"text-align: right;\">\n",
       "      <th>sales_method</th>\n",
       "      <th>Call</th>\n",
       "      <th>Email</th>\n",
       "      <th>Email + Call</th>\n",
       "    </tr>\n",
       "    <tr>\n",
       "      <th>week</th>\n",
       "      <th></th>\n",
       "      <th></th>\n",
       "      <th></th>\n",
       "    </tr>\n",
       "  </thead>\n",
       "  <tbody>\n",
       "    <tr>\n",
       "      <th>1</th>\n",
       "      <td>26159.18</td>\n",
       "      <td>229765.55</td>\n",
       "      <td>16885.33</td>\n",
       "    </tr>\n",
       "    <tr>\n",
       "      <th>2</th>\n",
       "      <td>33792.02</td>\n",
       "      <td>137794.35</td>\n",
       "      <td>26376.23</td>\n",
       "    </tr>\n",
       "    <tr>\n",
       "      <th>3</th>\n",
       "      <td>36247.27</td>\n",
       "      <td>98792.14</td>\n",
       "      <td>48737.14</td>\n",
       "    </tr>\n",
       "    <tr>\n",
       "      <th>4</th>\n",
       "      <td>49543.52</td>\n",
       "      <td>107788.37</td>\n",
       "      <td>78296.20</td>\n",
       "    </tr>\n",
       "    <tr>\n",
       "      <th>5</th>\n",
       "      <td>53518.11</td>\n",
       "      <td>74373.45</td>\n",
       "      <td>126809.72</td>\n",
       "    </tr>\n",
       "    <tr>\n",
       "      <th>6</th>\n",
       "      <td>28252.92</td>\n",
       "      <td>23706.75</td>\n",
       "      <td>111152.07</td>\n",
       "    </tr>\n",
       "  </tbody>\n",
       "</table>\n",
       "</div>"
      ],
      "text/plain": [
       "sales_method      Call      Email  Email + Call\n",
       "week                                           \n",
       "1             26159.18  229765.55      16885.33\n",
       "2             33792.02  137794.35      26376.23\n",
       "3             36247.27   98792.14      48737.14\n",
       "4             49543.52  107788.37      78296.20\n",
       "5             53518.11   74373.45     126809.72\n",
       "6             28252.92   23706.75     111152.07"
      ]
     },
     "execution_count": 35,
     "metadata": {},
     "output_type": "execute_result"
    }
   ],
   "source": [
    "revenue_per_week=pd.pivot_table(sales,index='week',values='revenue',columns='sales_method',aggfunc=np.sum)\n",
    "revenue_per_week.round(decimals=2)\n"
   ]
  },
  {
   "cell_type": "markdown",
   "id": "d3c875b5-5d37-47f5-b5c9-e79c0bedf1a1",
   "metadata": {},
   "source": [
    "**Revenue over time by sales method.Normalized by week :**"
   ]
  },
  {
   "cell_type": "code",
   "execution_count": 36,
   "id": "1b8d1a6c-e43b-44f6-994b-bf9870b85893",
   "metadata": {
    "collapsed": false,
    "executionTime": 267,
    "jupyter": {
     "outputs_hidden": false,
     "source_hidden": false
    },
    "lastSuccessfullyExecutedCode": "revenue_per_week_perc=pd.crosstab(index=sales['week'],values=sales['revenue'],columns=sales['sales_method'],aggfunc=np.sum,normalize='index')\nrevenue_per_week_perc=(revenue_per_week_perc*100).round(decimals=1)\n\nrevenue_per_week_perc= revenue_per_week_perc.astype('str')+ ' %'\nrevenue_per_week_perc"
   },
   "outputs": [
    {
     "data": {
      "text/html": [
       "<div>\n",
       "<style scoped>\n",
       "    .dataframe tbody tr th:only-of-type {\n",
       "        vertical-align: middle;\n",
       "    }\n",
       "\n",
       "    .dataframe tbody tr th {\n",
       "        vertical-align: top;\n",
       "    }\n",
       "\n",
       "    .dataframe thead th {\n",
       "        text-align: right;\n",
       "    }\n",
       "</style>\n",
       "<table border=\"1\" class=\"dataframe\">\n",
       "  <thead>\n",
       "    <tr style=\"text-align: right;\">\n",
       "      <th>sales_method</th>\n",
       "      <th>Call</th>\n",
       "      <th>Email</th>\n",
       "      <th>Email + Call</th>\n",
       "    </tr>\n",
       "    <tr>\n",
       "      <th>week</th>\n",
       "      <th></th>\n",
       "      <th></th>\n",
       "      <th></th>\n",
       "    </tr>\n",
       "  </thead>\n",
       "  <tbody>\n",
       "    <tr>\n",
       "      <th>1</th>\n",
       "      <td>9.6 %</td>\n",
       "      <td>84.2 %</td>\n",
       "      <td>6.2 %</td>\n",
       "    </tr>\n",
       "    <tr>\n",
       "      <th>2</th>\n",
       "      <td>17.1 %</td>\n",
       "      <td>69.6 %</td>\n",
       "      <td>13.3 %</td>\n",
       "    </tr>\n",
       "    <tr>\n",
       "      <th>3</th>\n",
       "      <td>19.7 %</td>\n",
       "      <td>53.8 %</td>\n",
       "      <td>26.5 %</td>\n",
       "    </tr>\n",
       "    <tr>\n",
       "      <th>4</th>\n",
       "      <td>21.0 %</td>\n",
       "      <td>45.7 %</td>\n",
       "      <td>33.2 %</td>\n",
       "    </tr>\n",
       "    <tr>\n",
       "      <th>5</th>\n",
       "      <td>21.0 %</td>\n",
       "      <td>29.2 %</td>\n",
       "      <td>49.8 %</td>\n",
       "    </tr>\n",
       "    <tr>\n",
       "      <th>6</th>\n",
       "      <td>17.3 %</td>\n",
       "      <td>14.5 %</td>\n",
       "      <td>68.1 %</td>\n",
       "    </tr>\n",
       "  </tbody>\n",
       "</table>\n",
       "</div>"
      ],
      "text/plain": [
       "sales_method    Call   Email Email + Call\n",
       "week                                     \n",
       "1              9.6 %  84.2 %        6.2 %\n",
       "2             17.1 %  69.6 %       13.3 %\n",
       "3             19.7 %  53.8 %       26.5 %\n",
       "4             21.0 %  45.7 %       33.2 %\n",
       "5             21.0 %  29.2 %       49.8 %\n",
       "6             17.3 %  14.5 %       68.1 %"
      ]
     },
     "execution_count": 36,
     "metadata": {},
     "output_type": "execute_result"
    }
   ],
   "source": [
    "revenue_per_week_perc=pd.crosstab(index=sales['week'],values=sales['revenue'],columns=sales['sales_method'],aggfunc=np.sum,normalize='index')\n",
    "revenue_per_week_perc=(revenue_per_week_perc*100).round(decimals=1)\n",
    "\n",
    "revenue_per_week_perc= revenue_per_week_perc.astype('str')+ ' %'\n",
    "revenue_per_week_perc"
   ]
  },
  {
   "cell_type": "markdown",
   "id": "c0e618e0-c867-4244-b927-198a354a2b50",
   "metadata": {},
   "source": [
    "Having grouped the total revenue by sales method over time we can make the following statements:\n",
    "- **Email** is the method that **starts with the most revenue: 84.2%** of the total. But it **decreases** over time **to 14.5%** of the total\n",
    "- **Email + Call starts as the lowest revenue: 6.2%** of the total. But it **increases** over time **to 68.1%**\n",
    "- **Call** method **stays steady at around 20%** of the total revenue "
   ]
  },
  {
   "cell_type": "code",
   "execution_count": 37,
   "id": "e4b43dd6-cb2b-4797-91d8-ce7b2cbdb60c",
   "metadata": {
    "collapsed": false,
    "executionTime": 347,
    "jupyter": {
     "outputs_hidden": false,
     "source_hidden": false
    },
    "lastSuccessfullyExecutedCode": "revenue_per_week.plot(kind='bar',title='Total Revenue over time by sales method')"
   },
   "outputs": [
    {
     "data": {
      "text/plain": [
       "<AxesSubplot:title={'center':'Total Revenue over time by sales method'}, xlabel='week'>"
      ]
     },
     "execution_count": 37,
     "metadata": {},
     "output_type": "execute_result"
    },
    {
     "data": {
      "image/png": "[encoded data removed]",
      "text/plain": [
       "<Figure size 640x480 with 1 Axes>"
      ]
     },
     "metadata": {},
     "output_type": "display_data"
    }
   ],
   "source": [
    "revenue_per_week.plot(kind='bar',title='Total Revenue over time by sales method')"
   ]
  },
  {
   "cell_type": "markdown",
   "id": "53713dc2-798d-40d6-bde6-e8bd07ab877c",
   "metadata": {},
   "source": [
    "# Wich sales method should we continue to use "
   ]
  },
  {
   "cell_type": "markdown",
   "id": "911ab436-ac70-499f-aac7-842629199d81",
   "metadata": {},
   "source": [
    "From the data we can see that the Call method performed the worst in multiple metrics: \n",
    "- Number of Customers: **2nd** with 34.3% of the customers \n",
    "- Total Revenue: **3rd** with 17.4% of the total revenue \n",
    "- Revenue per customer: **3rd** with an average revenue of 47.6 per customer\n",
    "- Units sold per customer: **3rd** with an average of 10 units sold per customer \n",
    "- Revenue over time: It is **outperformed by Email** in the **first 5 weeks** a**nd by Email+Call** in the **last 4 weeks**\n",
    "And if we add the fact that **each call takes 30 min** of time for our employees. \n"
   ]
  },
  {
   "cell_type": "markdown",
   "id": "f7d3f68e-6c3d-4202-8360-b12c3434cbcd",
   "metadata": {},
   "source": [
    "From the other two methods we can say:\n",
    "\n",
    "**Email**:\n",
    "- Most total customers and the most total revenue\n",
    "- Most revenue per week the first 4 weeks \n",
    "- Demands the least work\n",
    "\n",
    "**Email + Call**:\n",
    "- Most revenue per customer: 183 vs 97\n",
    "- More revenue each week, and it starts to outperform Email by week 4\n",
    "- Can capture the clients from the Email group and the Call group\n",
    "\n",
    "**Conclussion:**\n",
    "\n",
    "**EMAIL + CALL METHOD IS THE BETTER OPTION**:\n",
    "\n",
    "  If we would have used Email + Call as our only sales method the company would have gotten almost the same revenue in week 1. But the following weeks the revenue would have been aproximately the sum of all the methods, as customers who bought by email would still be getting one, and people who bought because they were called will still be getting a call. \n",
    " "
   ]
  },
  {
   "cell_type": "code",
   "execution_count": 38,
   "id": "a429cde6-4bf8-43cf-a36c-f79084131408",
   "metadata": {
    "executionTime": 262,
    "lastSuccessfullyExecutedCode": "r=revenue_per_week\nproyected_sales=revenue_per_week\nproyected_sales['Email + Call']=r['Call']+r['Email']+r['Email + Call']\nproyected_sales.drop(columns='Call',inplace=True)\nproyected_sales",
    "tags": []
   },
   "outputs": [
    {
     "data": {
      "text/html": [
       "<div>\n",
       "<style scoped>\n",
       "    .dataframe tbody tr th:only-of-type {\n",
       "        vertical-align: middle;\n",
       "    }\n",
       "\n",
       "    .dataframe tbody tr th {\n",
       "        vertical-align: top;\n",
       "    }\n",
       "\n",
       "    .dataframe thead th {\n",
       "        text-align: right;\n",
       "    }\n",
       "</style>\n",
       "<table border=\"1\" class=\"dataframe\">\n",
       "  <thead>\n",
       "    <tr style=\"text-align: right;\">\n",
       "      <th>sales_method</th>\n",
       "      <th>Email</th>\n",
       "      <th>Email + Call</th>\n",
       "    </tr>\n",
       "    <tr>\n",
       "      <th>week</th>\n",
       "      <th></th>\n",
       "      <th></th>\n",
       "    </tr>\n",
       "  </thead>\n",
       "  <tbody>\n",
       "    <tr>\n",
       "      <th>1</th>\n",
       "      <td>229765.55</td>\n",
       "      <td>272810.06</td>\n",
       "    </tr>\n",
       "    <tr>\n",
       "      <th>2</th>\n",
       "      <td>137794.35</td>\n",
       "      <td>197962.60</td>\n",
       "    </tr>\n",
       "    <tr>\n",
       "      <th>3</th>\n",
       "      <td>98792.14</td>\n",
       "      <td>183776.55</td>\n",
       "    </tr>\n",
       "    <tr>\n",
       "      <th>4</th>\n",
       "      <td>107788.37</td>\n",
       "      <td>235628.09</td>\n",
       "    </tr>\n",
       "    <tr>\n",
       "      <th>5</th>\n",
       "      <td>74373.45</td>\n",
       "      <td>254701.28</td>\n",
       "    </tr>\n",
       "    <tr>\n",
       "      <th>6</th>\n",
       "      <td>23706.75</td>\n",
       "      <td>163111.74</td>\n",
       "    </tr>\n",
       "  </tbody>\n",
       "</table>\n",
       "</div>"
      ],
      "text/plain": [
       "sales_method      Email  Email + Call\n",
       "week                                 \n",
       "1             229765.55     272810.06\n",
       "2             137794.35     197962.60\n",
       "3              98792.14     183776.55\n",
       "4             107788.37     235628.09\n",
       "5              74373.45     254701.28\n",
       "6              23706.75     163111.74"
      ]
     },
     "execution_count": 38,
     "metadata": {},
     "output_type": "execute_result"
    }
   ],
   "source": [
    "r=revenue_per_week\n",
    "proyected_sales=revenue_per_week\n",
    "proyected_sales['Email + Call']=r['Call']+r['Email']+r['Email + Call']\n",
    "proyected_sales.drop(columns='Call',inplace=True)\n",
    "proyected_sales"
   ]
  },
  {
   "cell_type": "code",
   "execution_count": 39,
   "id": "a7ac2aeb-4d12-49f7-846c-a5561d44d98f",
   "metadata": {
    "collapsed": false,
    "executionTime": 226,
    "jupyter": {
     "outputs_hidden": false,
     "source_hidden": false
    },
    "lastSuccessfullyExecutedCode": "proyected_sales.plot(kind='bar',title='Protected Revenue by method')"
   },
   "outputs": [
    {
     "data": {
      "text/plain": [
       "<AxesSubplot:title={'center':'Protected Revenue by method'}, xlabel='week'>"
      ]
     },
     "execution_count": 39,
     "metadata": {},
     "output_type": "execute_result"
    },
    {
     "data": {
      "image/png": "[encoded data removed]",
      "text/plain": [
       "<Figure size 640x480 with 1 Axes>"
      ]
     },
     "metadata": {},
     "output_type": "display_data"
    }
   ],
   "source": [
    "proyected_sales.plot(kind='bar',title='Protected Revenue by method')"
   ]
  },
  {
   "cell_type": "markdown",
   "id": "0ec4826f-8093-4166-b038-783e105a45d7",
   "metadata": {
    "executionTime": 0,
    "lastSuccessfullyExecutedCode": "#most popular sales method by state "
   },
   "source": [
    "# Most popular sales method by state "
   ]
  },
  {
   "cell_type": "code",
   "execution_count": 50,
   "id": "856f81fb-6bc7-487e-87d3-cb9d08771d8e",
   "metadata": {
    "executionTime": 274,
    "lastSuccessfullyExecutedCode": "sales_per_state=pd.crosstab(index=sales['state'],columns=sales['sales_method'],values=sales['customer_id'],aggfunc='count',normalize='index')\nsales_per_state=(sales_per_state*100).round(decimals=0)\nsales_per_state['prefered_method']=sales_per_state.idxmax(axis=1)\nsales_per_state.sort_values('prefered_method')",
    "tags": []
   },
   "outputs": [
    {
     "data": {
      "text/html": [
       "<div>\n",
       "<style scoped>\n",
       "    .dataframe tbody tr th:only-of-type {\n",
       "        vertical-align: middle;\n",
       "    }\n",
       "\n",
       "    .dataframe tbody tr th {\n",
       "        vertical-align: top;\n",
       "    }\n",
       "\n",
       "    .dataframe thead th {\n",
       "        text-align: right;\n",
       "    }\n",
       "</style>\n",
       "<table border=\"1\" class=\"dataframe\">\n",
       "  <thead>\n",
       "    <tr style=\"text-align: right;\">\n",
       "      <th>sales_method</th>\n",
       "      <th>Call</th>\n",
       "      <th>Email</th>\n",
       "      <th>Email + Call</th>\n",
       "      <th>prefered_method</th>\n",
       "    </tr>\n",
       "    <tr>\n",
       "      <th>state</th>\n",
       "      <th></th>\n",
       "      <th></th>\n",
       "      <th></th>\n",
       "      <th></th>\n",
       "    </tr>\n",
       "  </thead>\n",
       "  <tbody>\n",
       "    <tr>\n",
       "      <th>Arkansas</th>\n",
       "      <td>42.0</td>\n",
       "      <td>42.0</td>\n",
       "      <td>17.0</td>\n",
       "      <td>Call</td>\n",
       "    </tr>\n",
       "    <tr>\n",
       "      <th>Alabama</th>\n",
       "      <td>30.0</td>\n",
       "      <td>53.0</td>\n",
       "      <td>17.0</td>\n",
       "      <td>Email</td>\n",
       "    </tr>\n",
       "    <tr>\n",
       "      <th>Nevada</th>\n",
       "      <td>27.0</td>\n",
       "      <td>57.0</td>\n",
       "      <td>16.0</td>\n",
       "      <td>Email</td>\n",
       "    </tr>\n",
       "    <tr>\n",
       "      <th>New Hampshire</th>\n",
       "      <td>33.0</td>\n",
       "      <td>56.0</td>\n",
       "      <td>10.0</td>\n",
       "      <td>Email</td>\n",
       "    </tr>\n",
       "    <tr>\n",
       "      <th>New Jersey</th>\n",
       "      <td>39.0</td>\n",
       "      <td>46.0</td>\n",
       "      <td>15.0</td>\n",
       "      <td>Email</td>\n",
       "    </tr>\n",
       "  </tbody>\n",
       "</table>\n",
       "</div>"
      ],
      "text/plain": [
       "sales_method   Call  Email  Email + Call prefered_method\n",
       "state                                                   \n",
       "Arkansas       42.0   42.0          17.0            Call\n",
       "Alabama        30.0   53.0          17.0           Email\n",
       "Nevada         27.0   57.0          16.0           Email\n",
       "New Hampshire  33.0   56.0          10.0           Email\n",
       "New Jersey     39.0   46.0          15.0           Email"
      ]
     },
     "execution_count": 50,
     "metadata": {},
     "output_type": "execute_result"
    }
   ],
   "source": [
    "sales_per_state=pd.crosstab(index=sales['state'],columns=sales['sales_method'],values=sales['customer_id'],aggfunc='count',normalize='index')\n",
    "sales_per_state=(sales_per_state*100).round(decimals=0)\n",
    "sales_per_state['prefered_method']=sales_per_state.idxmax(axis=1)\n",
    "sales_per_state.sort_values('prefered_method').head()"
   ]
  },
  {
   "cell_type": "markdown",
   "id": "70b0557b-3f3b-4b12-8303-b4b55d9325c0",
   "metadata": {},
   "source": [
    "It could also be interesting to investigate if there is a difference in sales method between customers from each state:\n",
    "\n",
    "If we group the customer by their states there is only one state where Email is not the sales method prefered by customers: \n",
    "\n",
    "In the state of **Arkansas** **customers prefer to be Called** rather than Emailed"
   ]
  },
  {
   "cell_type": "code",
   "execution_count": 41,
   "id": "b71f1c7e-0a41-40f0-b532-979cc3c31c96",
   "metadata": {
    "collapsed": false,
    "executionTime": 234,
    "jupyter": {
     "outputs_hidden": false,
     "source_hidden": false
    },
    "lastSuccessfullyExecutedCode": "sales_per_state.sort_values('Call',ascending=False).head(5).plot(kind='bar',title='percentage of customers by  state').legend(loc='right')"
   },
   "outputs": [
    {
     "data": {
      "text/plain": [
       "<matplotlib.legend.Legend at 0x203ba6f3670>"
      ]
     },
     "execution_count": 41,
     "metadata": {},
     "output_type": "execute_result"
    },
    {
     "data": {
      "image/png": "[encoded data removed]",
      "text/plain": [
       "<Figure size 640x480 with 1 Axes>"
      ]
     },
     "metadata": {},
     "output_type": "display_data"
    }
   ],
   "source": [
    "sales_per_state.sort_values('Call',ascending=False).head(5).plot(kind='bar',title='percentage of customers by  state').legend(loc='right')"
   ]
  },
  {
   "cell_type": "markdown",
   "id": "ad525435-fec8-4fbd-9675-b54800ab8fe6",
   "metadata": {},
   "source": [
    "# Most popular sales method by years as customer "
   ]
  },
  {
   "cell_type": "code",
   "execution_count": 42,
   "id": "7f0e823c-651e-415f-bf72-31bc28971a7c",
   "metadata": {
    "collapsed": false,
    "executionTime": 330,
    "jupyter": {
     "outputs_hidden": false,
     "source_hidden": false
    },
    "lastSuccessfullyExecutedCode": "y=pd.pivot_table(sales,index='customer_id',values='years_as_customer',columns='sales_method')\ndistribution=y.describe().round(decimals=2)\ndistribution.drop(index=['count'],inplace=True)\ndistribution"
   },
   "outputs": [
    {
     "data": {
      "text/html": [
       "<div>\n",
       "<style scoped>\n",
       "    .dataframe tbody tr th:only-of-type {\n",
       "        vertical-align: middle;\n",
       "    }\n",
       "\n",
       "    .dataframe tbody tr th {\n",
       "        vertical-align: top;\n",
       "    }\n",
       "\n",
       "    .dataframe thead th {\n",
       "        text-align: right;\n",
       "    }\n",
       "</style>\n",
       "<table border=\"1\" class=\"dataframe\">\n",
       "  <thead>\n",
       "    <tr style=\"text-align: right;\">\n",
       "      <th>sales_method</th>\n",
       "      <th>Call</th>\n",
       "      <th>Email</th>\n",
       "      <th>Email + Call</th>\n",
       "    </tr>\n",
       "  </thead>\n",
       "  <tbody>\n",
       "    <tr>\n",
       "      <th>mean</th>\n",
       "      <td>5.15</td>\n",
       "      <td>4.99</td>\n",
       "      <td>4.53</td>\n",
       "    </tr>\n",
       "    <tr>\n",
       "      <th>std</th>\n",
       "      <td>5.09</td>\n",
       "      <td>5.04</td>\n",
       "      <td>4.72</td>\n",
       "    </tr>\n",
       "    <tr>\n",
       "      <th>min</th>\n",
       "      <td>0.00</td>\n",
       "      <td>0.00</td>\n",
       "      <td>0.00</td>\n",
       "    </tr>\n",
       "    <tr>\n",
       "      <th>25%</th>\n",
       "      <td>1.00</td>\n",
       "      <td>1.00</td>\n",
       "      <td>1.00</td>\n",
       "    </tr>\n",
       "    <tr>\n",
       "      <th>50%</th>\n",
       "      <td>4.00</td>\n",
       "      <td>4.00</td>\n",
       "      <td>3.00</td>\n",
       "    </tr>\n",
       "    <tr>\n",
       "      <th>75%</th>\n",
       "      <td>7.00</td>\n",
       "      <td>7.00</td>\n",
       "      <td>6.00</td>\n",
       "    </tr>\n",
       "    <tr>\n",
       "      <th>max</th>\n",
       "      <td>38.00</td>\n",
       "      <td>39.00</td>\n",
       "      <td>37.00</td>\n",
       "    </tr>\n",
       "  </tbody>\n",
       "</table>\n",
       "</div>"
      ],
      "text/plain": [
       "sales_method   Call  Email  Email + Call\n",
       "mean           5.15   4.99          4.53\n",
       "std            5.09   5.04          4.72\n",
       "min            0.00   0.00          0.00\n",
       "25%            1.00   1.00          1.00\n",
       "50%            4.00   4.00          3.00\n",
       "75%            7.00   7.00          6.00\n",
       "max           38.00  39.00         37.00"
      ]
     },
     "execution_count": 42,
     "metadata": {},
     "output_type": "execute_result"
    }
   ],
   "source": [
    "y=pd.pivot_table(sales,index='customer_id',values='years_as_customer',columns='sales_method')\n",
    "distribution=y.describe().round(decimals=2)\n",
    "distribution.drop(index=['count'],inplace=True)\n",
    "distribution"
   ]
  },
  {
   "cell_type": "markdown",
   "id": "e6858b6e-0b38-41d5-8020-3426bb9ee788",
   "metadata": {},
   "source": [
    "By ploting the age distribution of customers in each sales method we see that :\n",
    "\n",
    "More **recent clients** tend to buy more by **Email** and **Email + Call**.\n",
    "\n",
    "**But the difference is small** :\n",
    "- Call: 5.15 years as customer on average\n",
    "- Email: 4.99 years as customer on average\n",
    "- Email + Call: 4.53 years as customer on average\n",
    "\n",
    "Therefore I can conclude that:  \n",
    "**There is not any significant difference** to merit a change in the way products are sold.\n"
   ]
  },
  {
   "cell_type": "code",
   "execution_count": 45,
   "id": "662d2e5c-28d2-44e5-a42a-c0d5cbccd1cc",
   "metadata": {
    "collapsed": false,
    "executionTime": 659,
    "jupyter": {
     "outputs_hidden": false,
     "source_hidden": false
    },
    "lastSuccessfullyExecutedCode": "sales.boxplot(column='years_as_customer',by='sales_method').set_title('years as customer by sales method')\nplt.suptitle('')\nplt.show()"
   },
   "outputs": [
    {
     "data": {
      "image/png": "[encoded data removed]",
      "text/plain": [
       "<Figure size 640x480 with 1 Axes>"
      ]
     },
     "metadata": {},
     "output_type": "display_data"
    }
   ],
   "source": [
    "sales.boxplot(column='years_as_customer',by='sales_method').set_title('years as customer by sales method')\n",
    "plt.suptitle('')\n",
    "plt.show()"
   ]
  },
  {
   "cell_type": "markdown",
   "id": "95b99927-227b-45d6-8d95-e31741818667",
   "metadata": {},
   "source": [
    "# Most popular sales method by site visits"
   ]
  },
  {
   "cell_type": "code",
   "execution_count": 46,
   "id": "8b0d0585-2cf1-4c74-ac63-8ae2321be198",
   "metadata": {
    "collapsed": false,
    "executionTime": 324,
    "jupyter": {
     "outputs_hidden": false,
     "source_hidden": false
    },
    "lastSuccessfullyExecutedCode": "s=pd.pivot_table(sales,index='customer_id',values='nb_site_visits',columns='sales_method')\ndistribution=s.describe().round(decimals=2)\ndistribution.drop(index=['count'],inplace=True)\ndistribution"
   },
   "outputs": [
    {
     "data": {
      "text/html": [
       "<div>\n",
       "<style scoped>\n",
       "    .dataframe tbody tr th:only-of-type {\n",
       "        vertical-align: middle;\n",
       "    }\n",
       "\n",
       "    .dataframe tbody tr th {\n",
       "        vertical-align: top;\n",
       "    }\n",
       "\n",
       "    .dataframe thead th {\n",
       "        text-align: right;\n",
       "    }\n",
       "</style>\n",
       "<table border=\"1\" class=\"dataframe\">\n",
       "  <thead>\n",
       "    <tr style=\"text-align: right;\">\n",
       "      <th>sales_method</th>\n",
       "      <th>Call</th>\n",
       "      <th>Email</th>\n",
       "      <th>Email + Call</th>\n",
       "    </tr>\n",
       "  </thead>\n",
       "  <tbody>\n",
       "    <tr>\n",
       "      <th>mean</th>\n",
       "      <td>24.42</td>\n",
       "      <td>24.73</td>\n",
       "      <td>26.74</td>\n",
       "    </tr>\n",
       "    <tr>\n",
       "      <th>std</th>\n",
       "      <td>3.59</td>\n",
       "      <td>3.27</td>\n",
       "      <td>3.37</td>\n",
       "    </tr>\n",
       "    <tr>\n",
       "      <th>min</th>\n",
       "      <td>12.00</td>\n",
       "      <td>13.00</td>\n",
       "      <td>14.00</td>\n",
       "    </tr>\n",
       "    <tr>\n",
       "      <th>25%</th>\n",
       "      <td>22.00</td>\n",
       "      <td>23.00</td>\n",
       "      <td>24.00</td>\n",
       "    </tr>\n",
       "    <tr>\n",
       "      <th>50%</th>\n",
       "      <td>24.00</td>\n",
       "      <td>25.00</td>\n",
       "      <td>27.00</td>\n",
       "    </tr>\n",
       "    <tr>\n",
       "      <th>75%</th>\n",
       "      <td>27.00</td>\n",
       "      <td>27.00</td>\n",
       "      <td>29.00</td>\n",
       "    </tr>\n",
       "    <tr>\n",
       "      <th>max</th>\n",
       "      <td>37.00</td>\n",
       "      <td>36.00</td>\n",
       "      <td>37.00</td>\n",
       "    </tr>\n",
       "  </tbody>\n",
       "</table>\n",
       "</div>"
      ],
      "text/plain": [
       "sales_method   Call  Email  Email + Call\n",
       "mean          24.42  24.73         26.74\n",
       "std            3.59   3.27          3.37\n",
       "min           12.00  13.00         14.00\n",
       "25%           22.00  23.00         24.00\n",
       "50%           24.00  25.00         27.00\n",
       "75%           27.00  27.00         29.00\n",
       "max           37.00  36.00         37.00"
      ]
     },
     "execution_count": 46,
     "metadata": {},
     "output_type": "execute_result"
    }
   ],
   "source": [
    "s=pd.pivot_table(sales,index='customer_id',values='nb_site_visits',columns='sales_method')\n",
    "distribution=s.describe().round(decimals=2)\n",
    "distribution.drop(index=['count'],inplace=True)\n",
    "distribution"
   ]
  },
  {
   "cell_type": "markdown",
   "id": "2a6ec8de-4960-4662-b8dc-406eb54e7706",
   "metadata": {},
   "source": [
    "By ploting the site visits of customers in each sales method we see that :\n",
    "\n",
    "Clients that bought by **Email** and **Email + Call** registered more site visits :\n",
    "\n",
    "- Call: 24.42 site visits per customer on average\n",
    "- Email: 24.73 site visits per customer on average\n",
    "- Email + Call: 26.74 site visits per customer on average\n",
    "\n",
    "Therefore I can conclude that:  \n",
    "People who buy using **Email** and **Email + call** showed **more interest** in the company's website.\n"
   ]
  },
  {
   "cell_type": "code",
   "execution_count": 47,
   "id": "6a087eba-8256-42da-81e4-16595e0f23f9",
   "metadata": {
    "collapsed": false,
    "executionTime": 312,
    "jupyter": {
     "outputs_hidden": false,
     "source_hidden": false
    },
    "lastSuccessfullyExecutedCode": "sales.boxplot(column='nb_site_visits',by='sales_method').set_title('site visits per customer by sales method')\nplt.suptitle('')\nplt.show()"
   },
   "outputs": [
    {
     "data": {
      "image/png": "[encoded data removed]",
      "text/plain": [
       "<Figure size 640x480 with 1 Axes>"
      ]
     },
     "metadata": {},
     "output_type": "display_data"
    }
   ],
   "source": [
    "sales.boxplot(column='nb_site_visits',by='sales_method').set_title('site visits per customer by sales method')\n",
    "plt.suptitle('')\n",
    "plt.show()"
   ]
  },
  {
   "cell_type": "markdown",
   "id": "b39335c2-3a50-437b-946f-18f882e10e02",
   "metadata": {
    "executionTime": 264,
    "lastSuccessfullyExecutedCode": "# Site visits per state "
   },
   "source": [
    "# Site visits per state "
   ]
  },
  {
   "cell_type": "code",
   "execution_count": 48,
   "id": "ff342fd6-1bf0-4b50-8939-59b89470ceb7",
   "metadata": {
    "collapsed": false,
    "executionTime": 392,
    "jupyter": {
     "outputs_hidden": false,
     "source_hidden": false
    },
    "lastSuccessfullyExecutedCode": "site_visits_per_state=pd.pivot_table(sales,index='state',values='nb_site_visits',aggfunc='mean')\nsite_visits_per_state_sorted=site_visits_per_state.round(2).sort_values('nb_site_visits',ascending=False)\nsite_visits_per_state_sorted.describe().round(2)"
   },
   "outputs": [
    {
     "data": {
      "text/html": [
       "<div>\n",
       "<style scoped>\n",
       "    .dataframe tbody tr th:only-of-type {\n",
       "        vertical-align: middle;\n",
       "    }\n",
       "\n",
       "    .dataframe tbody tr th {\n",
       "        vertical-align: top;\n",
       "    }\n",
       "\n",
       "    .dataframe thead th {\n",
       "        text-align: right;\n",
       "    }\n",
       "</style>\n",
       "<table border=\"1\" class=\"dataframe\">\n",
       "  <thead>\n",
       "    <tr style=\"text-align: right;\">\n",
       "      <th></th>\n",
       "      <th>nb_site_visits</th>\n",
       "    </tr>\n",
       "  </thead>\n",
       "  <tbody>\n",
       "    <tr>\n",
       "      <th>count</th>\n",
       "      <td>50.00</td>\n",
       "    </tr>\n",
       "    <tr>\n",
       "      <th>mean</th>\n",
       "      <td>24.95</td>\n",
       "    </tr>\n",
       "    <tr>\n",
       "      <th>std</th>\n",
       "      <td>0.30</td>\n",
       "    </tr>\n",
       "    <tr>\n",
       "      <th>min</th>\n",
       "      <td>24.04</td>\n",
       "    </tr>\n",
       "    <tr>\n",
       "      <th>25%</th>\n",
       "      <td>24.83</td>\n",
       "    </tr>\n",
       "    <tr>\n",
       "      <th>50%</th>\n",
       "      <td>24.94</td>\n",
       "    </tr>\n",
       "    <tr>\n",
       "      <th>75%</th>\n",
       "      <td>25.14</td>\n",
       "    </tr>\n",
       "    <tr>\n",
       "      <th>max</th>\n",
       "      <td>25.77</td>\n",
       "    </tr>\n",
       "  </tbody>\n",
       "</table>\n",
       "</div>"
      ],
      "text/plain": [
       "       nb_site_visits\n",
       "count           50.00\n",
       "mean            24.95\n",
       "std              0.30\n",
       "min             24.04\n",
       "25%             24.83\n",
       "50%             24.94\n",
       "75%             25.14\n",
       "max             25.77"
      ]
     },
     "execution_count": 48,
     "metadata": {},
     "output_type": "execute_result"
    }
   ],
   "source": [
    "site_visits_per_state=pd.pivot_table(sales,index='state',values='nb_site_visits',aggfunc='mean')\n",
    "site_visits_per_state_sorted=site_visits_per_state.round(2).sort_values('nb_site_visits',ascending=False)\n",
    "site_visits_per_state_sorted.describe().round(2)"
   ]
  },
  {
   "cell_type": "markdown",
   "id": "632a7b2f-fd64-42c0-aee8-15f324661d2f",
   "metadata": {},
   "source": [
    "By ploting the distribution of **site visits** of customers in each **state** we see that :\n",
    "\n",
    "**There is not a big difference** in site visits from state to state : \n",
    "\n",
    "- standard deviation of 0.3 with a mean of 24.95"
   ]
  },
  {
   "cell_type": "code",
   "execution_count": 49,
   "id": "ecfd3842-7490-4ebb-8d7f-86d8bafdf611",
   "metadata": {
    "collapsed": false,
    "executionTime": 362,
    "jupyter": {
     "outputs_hidden": false,
     "source_hidden": false
    },
    "lastSuccessfullyExecutedCode": "site_visits_per_state_sorted.plot(kind='box',title='Site visits per state')"
   },
   "outputs": [
    {
     "data": {
      "text/plain": [
       "<AxesSubplot:title={'center':'Site visits per state'}>"
      ]
     },
     "execution_count": 49,
     "metadata": {},
     "output_type": "execute_result"
    },
    {
     "data": {
      "image/png": "[encoded data removed]",
      "text/plain": [
       "<Figure size 640x480 with 1 Axes>"
      ]
     },
     "metadata": {},
     "output_type": "display_data"
    }
   ],
   "source": [
    "site_visits_per_state_sorted.plot(kind='box',title='Site visits per state')"
   ]
  },
  {
   "cell_type": "markdown",
   "id": "0d2202b3-2378-4624-9f0c-aba9438f69f1",
   "metadata": {},
   "source": [
    "# Recomendations:"
   ]
  },
  {
   "cell_type": "markdown",
   "id": "d90dd001-9265-49e8-b232-e0a90eafe1bd",
   "metadata": {},
   "source": [
    "- It is my suggestion that **the company stop using the Call method** for the next product launch \n",
    "\n",
    "\n",
    "- **The company should use the Email + Call method** for the next launch. As those 10 min of extra work in calls will be more than compensated by the increase in revenue in the weeks after product launch compared to using only Email.\n",
    "\n",
    "- **Investigate** why are there **missing values** in the revenue field. Having more complete data will lead to more acurate analysis\n",
    "\n",
    "\n",
    "\n"
   ]
  },
  {
   "cell_type": "markdown",
   "id": "68117fc3-f074-4d73-80e7-35da3242e3de",
   "metadata": {},
   "source": [
    "# Business Metrics"
   ]
  },
  {
   "cell_type": "markdown",
   "id": "2a0c3a93-a766-4a2e-906d-fb11ecdb72fc",
   "metadata": {},
   "source": [
    "Since our goal is to maximize revenue the main metric we should look at  is **Revenue by week** and **Total customers by week**  \n",
    "\n",
    "\n",
    "Other important metric  should be **Difference in revenue by week** . That is, the gain or loss in revenue compared to the previous week. This metric should help us identify when a product is losing traction and the company can re-send emails  \n",
    "\n",
    "**Expected  values**: \n",
    "\n",
    "Based on the current data **Revenue by week** and **Total customers by week** should be aproximately the sum of of all the methods used for the same product. But the next product launch will be obviously be different so **it is not possible to make a prediction** for a different product.\n",
    "\n",
    "**Difference in revenue by week** This metric will also be **imposible to acurately predict for a diferent product** launch, but I expect to see a **positive difference** in revenue compared to a previous week **when the calls begin.**\n",
    "\n",
    "\n"
   ]
  }
 ],
 "metadata": {
  "colab": {
   "name": "Welcome to DataCamp Workspaces.ipynb",
   "provenance": []
  },
  "kernelspec": {
   "display_name": "Python 3 (ipykernel)",
   "language": "python",
   "name": "python3"
  },
  "language_info": {
   "codemirror_mode": {
    "name": "ipython",
    "version": 3
   },
   "file_extension": ".py",
   "mimetype": "text/x-python",
   "name": "python",
   "nbconvert_exporter": "python",
   "pygments_lexer": "ipython3",
   "version": "3.9.13"
  }
 },
 "nbformat": 4,
 "nbformat_minor": 5
}
